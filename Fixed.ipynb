{
 "cells": [
  {
   "cell_type": "code",
   "execution_count": 5,
   "metadata": {},
   "outputs": [
    {
     "ename": "ModuleNotFoundError",
     "evalue": "No module named 'utils'",
     "output_type": "error",
     "traceback": [
      "\u001b[1;31m---------------------------------------------------------------------------\u001b[0m",
      "\u001b[1;31mModuleNotFoundError\u001b[0m                       Traceback (most recent call last)",
      "Cell \u001b[1;32mIn[5], line 7\u001b[0m\n\u001b[0;32m      5\u001b[0m \u001b[38;5;28;01mimport\u001b[39;00m \u001b[38;5;21;01mwarnings\u001b[39;00m\n\u001b[0;32m      6\u001b[0m warnings\u001b[38;5;241m.\u001b[39mfilterwarnings(\u001b[38;5;124m'\u001b[39m\u001b[38;5;124mignore\u001b[39m\u001b[38;5;124m'\u001b[39m)\n\u001b[1;32m----> 7\u001b[0m \u001b[38;5;28;01mfrom\u001b[39;00m \u001b[38;5;21;01mutils\u001b[39;00m \u001b[38;5;28;01mimport\u001b[39;00m FlowesetimationV2\n\u001b[0;32m      8\u001b[0m \u001b[38;5;28;01mimport\u001b[39;00m \u001b[38;5;21;01mcplex\u001b[39;00m\n\u001b[0;32m      9\u001b[0m \u001b[38;5;28;01mfrom\u001b[39;00m \u001b[38;5;21;01mcplex\u001b[39;00m\u001b[38;5;21;01m.\u001b[39;00m\u001b[38;5;21;01mexceptions\u001b[39;00m \u001b[38;5;28;01mimport\u001b[39;00m CplexError\n",
      "\u001b[1;31mModuleNotFoundError\u001b[0m: No module named 'utils'"
     ]
    }
   ],
   "source": [
    "import pandas as pd\n",
    "import numpy as np\n",
    "import geopandas as gpd\n",
    "import transbigdata as tbd\n",
    "import warnings\n",
    "warnings.filterwarnings('ignore')\n",
    "import cplex\n",
    "from cplex.exceptions import CplexError\n",
    "from utils import FlowesetimationV2\n",
    "input_networks = '中间数据/network/'\n",
    "input_abm = '中间数据/abminput/'\n",
    "OD_count_path = '中间数据/ODpredict/OD_count/'"
   ]
  },
  {
   "cell_type": "code",
   "execution_count": 3,
   "metadata": {},
   "outputs": [
    {
     "data": {
      "text/plain": [
       "100000.0"
      ]
     },
     "execution_count": 3,
     "metadata": {},
     "output_type": "execute_result"
    }
   ],
   "source": [
    "speed = 100000\n",
    "#每小时100km\n",
    "od_dis_table = pd.read_csv(input_networks+r'od_dis_table.csv')\n",
    "edge_to_charge = pd.read_csv(input_networks+r'edge_to_charge.csv')"
   ]
  },
  {
   "cell_type": "code",
   "execution_count": null,
   "metadata": {},
   "outputs": [],
   "source": [
    "# 读入订单数据\n",
    "\n",
    "edge_order_hour = pd.read_csv(input_abm+'edge_order_hour.csv')"
   ]
  },
  {
   "cell_type": "code",
   "execution_count": null,
   "metadata": {},
   "outputs": [],
   "source": [
    "charge_edge_ids = edge_to_charge['edge_id'].unique()\n",
    "\n",
    "#筛选出od_dis_table中edge_id在charge_edge_ids中的OD对\n",
    "od_dis_table = od_dis_table[od_dis_table['edge_id'].isin(charge_edge_ids)]\n",
    "od_dis_table['cost_time_step'] = np.floor(od_dis_table['cumsumlength']/speed)\n",
    "\n",
    "od_prob = pd.read_csv(+'/OD_flow_20230116.csv').rename(columns={'flow': 'count'})\n",
    "\n",
    "\n",
    "#按照count的值排序，筛选出前10%的OD对\n",
    "od_prob = od_prob.sort_values('count', ascending=False)\n",
    "od_fix = od_prob.iloc[:int(len(od_prob)*0.1)]"
   ]
  },
  {
   "cell_type": "code",
   "execution_count": 6,
   "metadata": {},
   "outputs": [
    {
     "ename": "NameError",
     "evalue": "name 'cplex' is not defined",
     "output_type": "error",
     "traceback": [
      "\u001b[1;31m---------------------------------------------------------------------------\u001b[0m",
      "\u001b[1;31mNameError\u001b[0m                                 Traceback (most recent call last)",
      "Cell \u001b[1;32mIn[6], line 1\u001b[0m\n\u001b[1;32m----> 1\u001b[0m model \u001b[38;5;241m=\u001b[39m \u001b[43mcplex\u001b[49m\u001b[38;5;241m.\u001b[39mCplex()\n\u001b[0;32m      3\u001b[0m \u001b[38;5;66;03m# 设置问题类型为最小化\u001b[39;00m\n\u001b[0;32m      4\u001b[0m model\u001b[38;5;241m.\u001b[39mobjective\u001b[38;5;241m.\u001b[39mset_sense(model\u001b[38;5;241m.\u001b[39mobjective\u001b[38;5;241m.\u001b[39msense\u001b[38;5;241m.\u001b[39mminimize)\n",
      "\u001b[1;31mNameError\u001b[0m: name 'cplex' is not defined"
     ]
    }
   ],
   "source": [
    "model = cplex.Cplex()\n",
    "\n",
    "# 设置问题类型为最小化\n",
    "model.objective.set_sense(model.objective.sense.minimize)\n",
    "\n",
    "# 添加变量\n",
    "# 为每个OD对和路段的组合创建24个小时的变量\n",
    "var_names = [f\"x_{row['OD_pairs']}_{row['edge_id']}_{hour}\" for _, row in od_fix.iterrows() for hour in range(24)]\n",
    "model.variables.add(names=var_names, lb=[0]*len(var_names))\n",
    "\n",
    "# 定义目标函数（这里仅为简化的例子）\n",
    "model.objective.set_linear([(name, 1.0) for name in var_names])\n",
    "\n",
    "# 添加车流量约束：确保每个路段在每个小时的车流量不超过上限\n",
    "for _, edge_row in edge_order_hour.iterrows():\n",
    "    segment = edge_row['edge_id']\n",
    "    hour = edge_row['hour']\n",
    "    flow_limit = edge_row['real_count']\n",
    "    \n",
    "    involved_vars = [\n",
    "        name for name in var_names if f\"_{segment}_{hour}\" in name\n",
    "    ]\n",
    "    coeffs = [1.0] * len(involved_vars)\n",
    "    model.linear_constraints.add(\n",
    "        lin_expr=[cplex.SparsePair(ind=involved_vars, val=coeffs)],\n",
    "        senses=[\"E\"],\n",
    "        rhs=[flow_limit]\n",
    "    )\n",
    "    \n",
    "# 求解模型\n",
    "model.solve()\n",
    "\n",
    "# 打印结果\n",
    "print(\"Solution status =\", model.solution.get_status(), \":\",)\n",
    "print(model.solution.status[model.solution.get_status()])\n",
    "print(\"Solution value  =\", model.solution.get_objective_value())\n",
    "\n",
    "# 打印每个决策变量的解\n",
    "numcols = model.variables.get_num()\n",
    "for j in range(numcols):\n",
    "    print(\"%s: %10f\" % (model.variables.get_names(j), model.solution.get_values(j)))\n",
    "\n",
    "# 提取决策变量及其解值\n",
    "solution_values = model.solution.get_values()\n",
    "\n",
    "# 决策变量的名称和对应的解值\n",
    "var_names = model.variables.get_names()\n",
    "var_values = {var_names[i]: solution_values[i] for i in range(len(var_names))}\n",
    "\n",
    "# 解析决策变量名称，并创建一个包含OD对、路段、小时和流量的DataFrame\n",
    "data_for_merge = []\n",
    "\n",
    "for var_name, value in var_values.items():\n",
    "    # 假设变量名格式为\"x_OD_segment_hour\"\n",
    "    parts = var_name.split('_')\n",
    "    od, edge_id, hour = parts[1], parts[2], parts[3]\n",
    "    data_for_merge.append({'OD': od, 'edge_id': int(edge_id), 'hour': int(hour), 'flow': value})\n",
    "\n",
    "# 创建新DataFrame\n",
    "solution_df = pd.DataFrame(data_for_merge)\n"
   ]
  }
 ],
 "metadata": {
  "kernelspec": {
   "display_name": "Python 3",
   "language": "python",
   "name": "python3"
  },
  "language_info": {
   "codemirror_mode": {
    "name": "ipython",
    "version": 3
   },
   "file_extension": ".py",
   "mimetype": "text/x-python",
   "name": "python",
   "nbconvert_exporter": "python",
   "pygments_lexer": "ipython3",
   "version": "3.9.8"
  }
 },
 "nbformat": 4,
 "nbformat_minor": 2
}
